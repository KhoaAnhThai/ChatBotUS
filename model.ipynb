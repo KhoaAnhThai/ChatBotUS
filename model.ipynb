{
 "cells": [
  {
   "cell_type": "code",
   "execution_count": 4,
   "metadata": {},
   "outputs": [
    {
     "name": "stderr",
     "output_type": "stream",
     "text": [
      "e:\\ChatbotUS\\venv\\Lib\\site-packages\\tqdm\\auto.py:21: TqdmWarning: IProgress not found. Please update jupyter and ipywidgets. See https://ipywidgets.readthedocs.io/en/stable/user_install.html\n",
      "  from .autonotebook import tqdm as notebook_tqdm\n"
     ]
    }
   ],
   "source": [
    "from langchain.text_splitter import CharacterTextSplitter,RecursiveCharacterTextSplitter\n",
    "from langchain_community.embeddings import HuggingFaceEmbeddings,GPT4AllEmbeddings\n",
    "from langchain_community.vectorstores import FAISS\n",
    "from langchain.prompts import PromptTemplate\n",
    "from langchain.chains import RetrievalQA,LLMChain\n",
    "from langchain_google_genai import ChatGoogleGenerativeAI"
   ]
  },
  {
   "cell_type": "code",
   "execution_count": 5,
   "metadata": {},
   "outputs": [
    {
     "data": {
      "text/plain": [
       "True"
      ]
     },
     "execution_count": 5,
     "metadata": {},
     "output_type": "execute_result"
    }
   ],
   "source": [
    "from dotenv import load_dotenv\n",
    "import os\n",
    "load_dotenv()"
   ]
  },
  {
   "cell_type": "code",
   "execution_count": 6,
   "metadata": {},
   "outputs": [],
   "source": [
    "from selenium import webdriver\n",
    "from selenium.webdriver.chrome.service import Service\n",
    "from selenium.webdriver.common.by import By\n",
    "from webdriver_manager.chrome import ChromeDriverManager\n",
    "from selenium.webdriver.chrome.options import Options\n",
    "from bs4 import BeautifulSoup\n",
    "import time"
   ]
  },
  {
   "cell_type": "code",
   "execution_count": 8,
   "metadata": {},
   "outputs": [],
   "source": []
  },
  {
   "cell_type": "code",
   "execution_count": 37,
   "metadata": {},
   "outputs": [],
   "source": [
    "model = ChatBotUS(url = 'https://machinelearningcoban.com/2017/10/12/fundaml_vectors/')"
   ]
  },
  {
   "cell_type": "code",
   "execution_count": 35,
   "metadata": {},
   "outputs": [],
   "source": [
    "model_local = ChatBotUS()"
   ]
  },
  {
   "cell_type": "code",
   "execution_count": 38,
   "metadata": {},
   "outputs": [
    {
     "name": "stdout",
     "output_type": "stream",
     "text": [
      "Dựa trên văn bản cung cấp, đây là một số thông tin về mảng (array) trong NumPy (một thư viện Python):\n",
      "\n",
      "**1. Khởi tạo mảng:**\n",
      "\n",
      "* **`np.array([1, 2, 3])`:** Tạo một mảng một chiều (vector) chứa các phần tử 1, 2, 3.\n",
      "* **`np.arange(n)`:** Tạo một mảng chứa các số nguyên từ 0 đến n-1.\n",
      "* **`np.arange(m, n)`:** Tạo một mảng chứa các số nguyên từ m đến n-1.\n",
      "* **`np.arange(a, b, d)`:** Tạo một cấp số cộng với phần tử đầu là a, công sai là d, và phần tử cuối là số lớn nhất nhỏ hơn b (nếu d dương) hoặc số nhỏ nhất lớn hơn b (nếu d âm và b < a).\n",
      "* **`np.zeros(n)`:** Tạo một mảng chứa n phần tử, mỗi phần tử có giá trị 0.\n",
      "* **`np.ones(n)`:** Tạo một mảng chứa n phần tử, mỗi phần tử có giá trị 1.\n",
      "* **`np.zeros_like(x)`:** Tạo một mảng chứa toàn số 0, có cùng kích thước và kiểu dữ liệu với mảng x.\n",
      "* **`np.ones_like(x)`:** Tạo một mảng chứa toàn số 1, có cùng kích thước và kiểu dữ liệu với mảng x.\n",
      "\n",
      "\n",
      "**2. Truy cập phần tử:**\n",
      "\n",
      "* **`x[i]`:** Truy cập phần tử thứ i của mảng x (chỉ số bắt đầu từ 0).\n",
      "* **`x[-1]`:** Truy cập phần tử cuối cùng của mảng x.\n",
      "* **`x[-i]`:** Truy cập phần tử thứ i từ cuối mảng x lên.\n",
      "* **`x[ids]`:** Truy cập nhiều phần tử của mảng x cùng lúc, với `ids` là một list hoặc mảng chứa các chỉ số cần truy cập.\n",
      "* **`x[:]`:**  Truy cập tất cả các phần tử của mảng x.\n",
      "* **`x[m:n]`:** Truy cập các phần tử từ chỉ số m đến n-1.\n",
      "* **`x[::k]`:** Truy cập các phần tử với bước nhảy k.\n",
      "* **`x[::-1]`:** Đảo ngược mảng x.\n",
      "\n",
      "\n",
      "**3. Thay đổi giá trị phần tử:**\n",
      "\n",
      "* **`x[i] = value`:** Thay đổi giá trị của phần tử thứ i thành `value`.\n",
      "* **`x[ids] = values`:** Thay đổi giá trị của nhiều phần tử cùng lúc.\n",
      "\n",
      "\n",
      "**4. Phép toán:**\n",
      "\n",
      "* **`x + a`, `x - a`, `x * a`, `x / a`, `x ** a`:** Thực hiện phép toán element-wise giữa mảng x và số vô hướng a.\n",
      "* **`x + y`, `x - y`, `x * y`, `x / y`, `x ** y`:** Thực hiện phép toán element-wise giữa hai mảng x và y (cùng kích thước).\n",
      "* Các hàm toán học như `np.abs`, `np.log`, `np.exp`, `np.sin`, `np.cos`, `np.tan`, `np.sum` cũng áp dụng lên từng phần tử của mảng.\n",
      "\n",
      "\n",
      "**5. Kiểu dữ liệu:**\n",
      "\n",
      "Mảng NumPy có kiểu dữ liệu cụ thể (ví dụ: `numpy.int64`, `numpy.float64`).  Kiểu dữ liệu có thể được chỉ định khi khởi tạo mảng bằng tham số `dtype`.\n",
      "\n",
      "\n",
      "**6. Kích thước mảng:**\n",
      "\n",
      "* **`x.shape`:** Trả về kích thước của mảng x dưới dạng tuple.  Đối với mảng một chiều, tuple sẽ có dạng `(d,)` với d là số phần tử.\n",
      "\n",
      "\n",
      "**Tóm lại:**  Văn bản mô tả cách tạo, truy cập, thao tác và tính toán với mảng một chiều trong NumPy.  NumPy cung cấp nhiều hàm tiện ích để làm việc hiệu quả với các mảng, đặc biệt là các phép toán vector hóa (element-wise).\n"
     ]
    }
   ],
   "source": [
    "print(model.make_response('Cho tôi biết về Array'))"
   ]
  }
 ],
 "metadata": {
  "kernelspec": {
   "display_name": "venv",
   "language": "python",
   "name": "python3"
  },
  "language_info": {
   "codemirror_mode": {
    "name": "ipython",
    "version": 3
   },
   "file_extension": ".py",
   "mimetype": "text/x-python",
   "name": "python",
   "nbconvert_exporter": "python",
   "pygments_lexer": "ipython3",
   "version": "3.11.9"
  }
 },
 "nbformat": 4,
 "nbformat_minor": 2
}
